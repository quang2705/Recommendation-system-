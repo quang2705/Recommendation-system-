{
 "cells": [
  {
   "cell_type": "markdown",
   "metadata": {},
   "source": [
    "# Exploring data"
   ]
  },
  {
   "cell_type": "code",
   "execution_count": 1,
   "metadata": {},
   "outputs": [],
   "source": [
    "import pandas as pd\n",
    "import numpy as np \n",
    "import warnings; warnings.simplefilter('ignore')\n",
    "from sklearn.feature_extraction.text import TfidfVectorizer, CountVectorizer\n",
    "from sklearn.metrics.pairwise import linear_kernel, cosine_similarity\n",
    "from ast import literal_eval\n",
    "from matplotlib import pyplot as plt\n",
    "from nltk.stem.snowball import SnowballStemmer\n",
    "\n",
    "                                                                                                                                                                                                                                                                                                                                                                                                                                                                                                                                                                                                                                                                                                                                                                                                                                                                                                                                                                                                                                                                                                                                                                                                                                                                                                                                                                                                                                                                                                                                                                                                                                                                                                                                                                                                                                                                                                                                                                                                                                                                                                                                                                                                                                                                                                                                                                                                                                                                                                                                                                                                                                                                                                                                                                                                                                                                                                                                                                                                                                                                                                                                                                                                                                                                                                                                                                                                                                                                                                                                                                                                                                                                                                                                                                                                                                                                                                                                                                                                                                                                                                                                                                                                                                                                                                                                                                                                                                                                                                                                                                                                                                                                                                                                                                                                                                                                                                                                                                                                                                                                                                                                                                                                                                                                                                                                                                                                                                                                                                                                                                                                                                                                                                                                                                                                                                                                                                                                                                                                                                                                                                                                                                                                                                                                                                                                                                                                                                                                                                                                                                                                                                                                                                                                                                                                                                                                                                                                                                                                                                                                                                                                                                                                                                                                                                                                                                                                                                                                                                                                                                                                                                                                                                                                                                                                                                                                                                                                                                                                                                                                                                                                                                                                                                                                                                                                                                                                                                                                                                                                                                                                                                                                                                                                                                                                                                                                                                                                                                                                                                                                                                                                        "
   ]
  },
  {
   "cell_type": "markdown",
   "metadata": {},
   "source": [
    "## Simple Recommender\n",
    "### Sort movie by its popularity\n",
    "How to calculate movie popularity? \n",
    "\n",
    "According to imdb, movie rating is calculated as follow:\n",
    "\n",
    "Weight Rated = (v/(m+v)*R) + (m/(v+m)*C)\n",
    "\n",
    "For v = numbers of votes for the movie\n",
    "\n",
    "For m = The minimum votes required to be on the chart\n",
    "\n",
    "For R = The average rating of the movie \n",
    "\n",
    "For C = The mean vote across the whole record\n",
    "\n",
    "### Request data from database\n",
    "\n",
    "\n"
   ]
  },
  {
   "cell_type": "code",
   "execution_count": 2,
   "metadata": {},
   "outputs": [
    {
     "data": {
      "text/plain": [
       "['adult',\n",
       " 'backdrop_path',\n",
       " 'belongs_to_collection',\n",
       " 'budget',\n",
       " 'genres',\n",
       " 'homepage',\n",
       " 'id',\n",
       " 'imdb_id',\n",
       " 'original_language',\n",
       " 'original_title',\n",
       " 'overview',\n",
       " 'popularity',\n",
       " 'poster_path',\n",
       " 'production_companies',\n",
       " 'production_countries',\n",
       " 'release_date',\n",
       " 'revenue',\n",
       " 'runtime',\n",
       " 'spoken_languages',\n",
       " 'status',\n",
       " 'tagline',\n",
       " 'title',\n",
       " 'video',\n",
       " 'vote_average',\n",
       " 'vote_count']"
      ]
     },
     "execution_count": 2,
     "metadata": {},
     "output_type": "execute_result"
    }
   ],
   "source": [
    "import requests\n",
    "import pandas as pd\n",
    "\n",
    "url = \"https://api.themoviedb.org/3/movie/{}\"\n",
    "latest_movieID = 528128\n",
    "first_movieID = 1\n",
    "D = {'api_key':'7cfc8557ee5d234bff85e81eb103c210'}\n",
    "api = requests.get(url.format(latest_movieID) , params = D)\n",
    "movie_json = api.json()\n",
    "list(movie_json.keys())\n"
   ]
  },
  {
   "cell_type": "code",
   "execution_count": 3,
   "metadata": {},
   "outputs": [],
   "source": [
    "# import time\n",
    "# #query every movive for the movie database \n",
    "\n",
    "# for index in range (4138, 13203):\n",
    "#     movie_list= []\n",
    "#     for movieID in range(0,40):\n",
    "#         api = requests.get(url.format(movieID + index*40),params = D)\n",
    "#         print(movieID + index*100)\n",
    "#         if(api.status_code == 404):\n",
    "#             print(\"ERROR 404: MOVIE NOT FOUND\")\n",
    "#         elif(api.status_code == 200):\n",
    "#             print(\"SUCCESS\")\n",
    "#             movie = api.json()\n",
    "#             movie_list.append(movie)\n",
    "#         else:\n",
    "#             print(api.status_code)\n",
    "#     if(len(movie_list) != 0):\n",
    "#         movie_data = pd.DataFrame(movie_list)\n",
    "#         average_rate = movie_data.vote_average.mean()\n",
    "#         movie_data['average_rate'] = average_rate\n",
    "#         csv_file = \"movie_data{}.csv\"\n",
    "#         movie_data.to_csv(csv_file.format(index))\n",
    "#     time.sleep(10)"
   ]
  },
  {
   "cell_type": "markdown",
   "metadata": {},
   "source": []
  },
  {
   "cell_type": "code",
   "execution_count": 4,
   "metadata": {},
   "outputs": [],
   "source": [
    "# import warnings; warnings.simplefilter('ignore')\n",
    "\n",
    "movie_data = pd.read_csv(\"data/md.csv\")\n",
    "link_id = pd.read_csv(\"data/links_small.csv\")\n",
    "link_id = link_id[['movieId','imdbId', 'tmdbId']]"
   ]
  },
  {
   "cell_type": "code",
   "execution_count": 5,
   "metadata": {},
   "outputs": [],
   "source": [
    "#m : minimum vote to be in the list \n",
    "m = movie_data['vote_count'].quantile(0.95)\n",
    "\n",
    "#C: mean vote accross every record\n",
    "C = movie_data['vote_average'].mean()\n",
    "\n",
    "def weightRate(movie):\n",
    "    #v : number of vote \n",
    "    v = movie['vote_count']\n",
    "    #R : average rating of a movie \n",
    "    R = movie['vote_average']\n",
    "    return R*v/(v+m) + C*m/(v+m)\n",
    "    \n",
    "movie_data['weight_rate'] = movie_data.apply(weightRate, axis = 1)\n",
    "mdRanked = movie_data.sort_values(by= ['weight_rate'], ascending = False)"
   ]
  },
  {
   "cell_type": "markdown",
   "metadata": {},
   "source": [
    "## Content based recommender\n",
    "### What's the different \n",
    "This recommender system based on the used preference, more details of its, look at the google docs sheet \n"
   ]
  },
  {
   "cell_type": "code",
   "execution_count": 6,
   "metadata": {},
   "outputs": [],
   "source": [
    "link_id = link_id.astype(int)\n",
    "\n",
    "tmdbId = link_id[link_id['tmdbId'].notnull()]['tmdbId'].astype(int)\n",
    "movie_data = movie_data[movie_data['id'].notnull()]\n",
    "movie_data['id']= movie_data['id'].astype(int)"
   ]
  },
  {
   "cell_type": "code",
   "execution_count": 7,
   "metadata": {},
   "outputs": [
    {
     "data": {
      "text/plain": [
       "(7082, 12)"
      ]
     },
     "execution_count": 7,
     "metadata": {},
     "output_type": "execute_result"
    }
   ],
   "source": [
    "# movie_data.to_csv('movie_data.csv')\n",
    "tmdb_md = movie_data[movie_data['id'].isin(tmdbId)]\n",
    "tmdb_md['tagline'] = tmdb_md['tagline'].fillna('')\n",
    "tmdb_md['overview'] = tmdb_md['overview'].fillna('')\n",
    "tmdb_md['description'] = tmdb_md['tagline'] + tmdb_md['overview']\n",
    "\n",
    "tmdb_md.shape"
   ]
  },
  {
   "cell_type": "raw",
   "metadata": {},
   "source": [
    "small_description = tmdb_md['description']\n",
    "    \n",
    "tf = TfidfVectorizer(analyzer='word',ngram_range=(1, 2),min_df=0, stop_words='english')\n",
    "tfidf_matrix = tf.fit_transform(small_description)\n",
    "tfidf_matrix.shape"
   ]
  },
  {
   "cell_type": "code",
   "execution_count": 9,
   "metadata": {},
   "outputs": [],
   "source": [
    "cosine_sim = linear_kernel(tfidf_matrix, tfidf_matrix)"
   ]
  },
  {
   "cell_type": "code",
   "execution_count": 10,
   "metadata": {},
   "outputs": [],
   "source": [
    "tmdb_md = tmdb_md.reset_index()"
   ]
  },
  {
   "cell_type": "code",
   "execution_count": 11,
   "metadata": {},
   "outputs": [],
   "source": [
    "titles = tmdb_md['title']\n",
    "    \n",
    "indices = pd.Series(data = tmdb_md.index, index =titles )\n",
    "\n",
    "def getRecommendation(title):\n",
    "    title_index = indices[title]\n",
    "    sim_score = list(enumerate(cosine_sim[title_index]))\n",
    "    sim_score = sorted(sim_score, key = lambda x: x[1], reverse = True)\n",
    "    sim_score = sim_score[1:31]\n",
    "    movie_indice = [i[0] for i in sim_score]\n",
    "    \n",
    "    return indices.iloc[movie_indice] "
   ]
  },
  {
   "cell_type": "code",
   "execution_count": 12,
   "metadata": {},
   "outputs": [
    {
     "data": {
      "text/plain": [
       "title\n",
       "The Dark Knight Rises                        89\n",
       "Batman Forever                             6975\n",
       "Batman Returns                              986\n",
       "Batman: Under the Red Hood                  611\n",
       "Batman: The Dark Knight Returns, Part 2     509\n",
       "Batman                                      488\n",
       "Batman: Year One                           1474\n",
       "Batman: Mask of the Phantasm               1368\n",
       "JFK                                         609\n",
       "Batman: The Dark Knight Returns, Part 1     620\n",
       "Sherlock Holmes: A Game of Shadows          403\n",
       "Batman Begins                               126\n",
       "Q & A                                      4620\n",
       "Law Abiding Citizen                         412\n",
       "The File on Thelma Jordon                  5336\n",
       "Flying Tigers                              5451\n",
       "Night Falls on Manhattan                   4563\n",
       "The Young Savages                          5702\n",
       "Batman v Superman: Dawn of Justice         4147\n",
       "Batman & Robin                             7080\n",
       "Rush Hour 3                                2341\n",
       "The Rookie                                 3126\n",
       "The Shaggy D.A.                            5860\n",
       "Fracture                                    634\n",
       "Justice League: Crisis on Two Earths       2036\n",
       "By the Gun                                 6352\n",
       "The Wrong Man                              2665\n",
       "The Master of Disguise                     6957\n",
       "Thinner                                    6172\n",
       "Gangster's Paradise: Jerusalema            4728\n",
       "dtype: int64"
      ]
     },
     "execution_count": 12,
     "metadata": {},
     "output_type": "execute_result"
    }
   ],
   "source": [
    "getRecommendation('The Dark Knight')    "
   ]
  },
  {
   "cell_type": "code",
   "execution_count": 14,
   "metadata": {},
   "outputs": [],
   "source": [
    "credits = pd.read_csv(\"data/credits.csv\")\n",
    "keywords = pd.read_csv(\"data/keywords.csv\")\n",
    "\n",
    "credits['id'] = credits['id'].astype(int)\n",
    "keywords['id'] = keywords['id'].astype(int)\n",
    "movie_data['id'] = movie_data['id'].astype(int)"
   ]
  },
  {
   "cell_type": "code",
   "execution_count": 15,
   "metadata": {},
   "outputs": [],
   "source": [
    "movie_data =pd.merge(movie_data, credits, how = \"inner\", on= 'id')\n",
    "movie_data = pd.merge(movie_data, keywords,how = \"inner\", on = 'id')"
   ]
  },
  {
   "cell_type": "code",
   "execution_count": 16,
   "metadata": {},
   "outputs": [],
   "source": [
    "movie_data['cast'] = movie_data['cast'].apply(literal_eval)\n",
    "movie_data['crew'] = movie_data['crew'].apply(literal_eval)\n",
    "movie_data['keywords'] = movie_data['keywords'].apply(literal_eval)"
   ]
  },
  {
   "cell_type": "code",
   "execution_count": 18,
   "metadata": {},
   "outputs": [],
   "source": [
    "def getActor(x):\n",
    "    if (len(x) >5):\n",
    "        x = x[:5]\n",
    "    else:\n",
    "        x = x\n",
    "    return [actor['name'].replace(\" \",\"\") for actor in x ]\n",
    "\n",
    "def getDirector(x):\n",
    "    return [crew['name'].replace(\" \", \"\") for crew in x if crew['job'] == 'Director']\n",
    "\n",
    "def getKeywords(x):\n",
    "    return [key['name'] for key in x]\n",
    "\n",
    "\n",
    "tmdb_movie = movie_data[movie_data['id'].isin(tmdbId)]\n",
    "tmdb_movie['actors'] =tmdb_movie['cast'].apply(getActor)\n",
    "tmdb_movie['director'] = tmdb_movie['crew'].apply(getDirector)\n",
    "tmdb_movie['keywords'] = tmdb_movie['keywords'].apply(getKeywords)"
   ]
  },
  {
   "cell_type": "code",
   "execution_count": 19,
   "metadata": {},
   "outputs": [],
   "source": [
    "stemmer = SnowballStemmer('english')\n",
    "stemmer.stem('dogs')\n",
    "tmdb_movie['keywords'] = tmdb_movie['keywords'].apply(lambda x: [stemmer.stem(i) for i in x])"
   ]
  },
  {
   "cell_type": "code",
   "execution_count": 21,
   "metadata": {},
   "outputs": [
    {
     "name": "stdout",
     "output_type": "stream",
     "text": [
      "itali love at first sight loss of fath patriarch organized crim mafia lawyer italian american crime famili rise to pow mob boss 1940s FrancisFordCoppola MarlonBrando AlPacino JamesCaan RichardS.Castellano RobertDuvall\n"
     ]
    }
   ],
   "source": [
    "tmdb_movie['details'] = tmdb_movie['keywords'] + tmdb_movie['director'] + tmdb_movie['actors']\n",
    "tmdb_movie['details'] = tmdb_movie['details'].apply (lambda x: ' '.join(x))\n",
    "# tmdb_movie.to_csv('tmdb_movie.csv')"
   ]
  },
  {
   "cell_type": "code",
   "execution_count": 22,
   "metadata": {},
   "outputs": [
    {
     "data": {
      "text/plain": [
       "(7252, 7252)"
      ]
     },
     "execution_count": 22,
     "metadata": {},
     "output_type": "execute_result"
    }
   ],
   "source": [
    "tf_details = TfidfVectorizer(analyzer='word',ngram_range=(1, 2),min_df=0, stop_words='english')\n",
    "tf_matrix = tf.fit_transform(tmdb_movie['details'])\n",
    "cosine_sim = linear_kernel(tf_matrix, tf_matrix)\n",
    "cosine_sim.shape"
   ]
  },
  {
   "cell_type": "code",
   "execution_count": 23,
   "metadata": {},
   "outputs": [],
   "source": [
    "tmdb_movie = tmdb_movie.reset_index()"
   ]
  },
  {
   "cell_type": "code",
   "execution_count": 25,
   "metadata": {},
   "outputs": [],
   "source": [
    "titles = tmdb_movie['title']    \n",
    "indices = pd.Series(data = tmdb_movie.index, index =titles )"
   ]
  },
  {
   "cell_type": "code",
   "execution_count": 26,
   "metadata": {},
   "outputs": [
    {
     "data": {
      "text/plain": [
       "title\n",
       "Batman Begins                               128\n",
       "The Dark Knight Rises                        91\n",
       "Batman: Under the Red Hood                  615\n",
       "Batman Returns                              994\n",
       "Batman                                      492\n",
       "Batman & Robin                             7250\n",
       "Superman                                    773\n",
       "Batman v Superman: Dawn of Justice         4233\n",
       "Superman III                               6981\n",
       "Justice League: Crisis on Two Earths       2092\n",
       "Man of Steel                                912\n",
       "Wonder Woman                               2150\n",
       "Batman: Mask of the Phantasm               1400\n",
       "Batman: Year One                           1506\n",
       "Batman Forever                             7145\n",
       "Kick-Ass 2                                 1449\n",
       "Batman: The Dark Knight Returns, Part 2     513\n",
       "All Star Superman                          2679\n",
       "Superman II                                1580\n",
       "Batman: The Dark Knight Returns, Part 1     624\n",
       "Justice League: The Flashpoint Paradox      843\n",
       "Green Lantern                              7198\n",
       "Kick-Ass                                    316\n",
       "Watchmen                                    440\n",
       "Suicide Squad                              2638\n",
       "Spider-Man 2                                660\n",
       "The Amazing Spider-Man 2                    967\n",
       "Blade: Trinity                             4502\n",
       "Sky High                                   3886\n",
       "Superman and the Mole-Men                  5645\n",
       "dtype: int64"
      ]
     },
     "execution_count": 26,
     "metadata": {},
     "output_type": "execute_result"
    }
   ],
   "source": [
    "getRecommendation('The Dark Knight')"
   ]
  },
  {
   "cell_type": "code",
   "execution_count": null,
   "metadata": {},
   "outputs": [],
   "source": []
  }
 ],
 "metadata": {
  "kernelspec": {
   "display_name": "Python 3",
   "language": "python",
   "name": "python3"
  },
  "language_info": {
   "codemirror_mode": {
    "name": "ipython",
    "version": 3
   },
   "file_extension": ".py",
   "mimetype": "text/x-python",
   "name": "python",
   "nbconvert_exporter": "python",
   "pygments_lexer": "ipython3",
   "version": "3.6.5"
  }
 },
 "nbformat": 4,
 "nbformat_minor": 2
}
