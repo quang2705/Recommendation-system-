{
 "cells": [
  {
   "cell_type": "markdown",
   "metadata": {},
   "source": [
    "# Exploring Recommendation system algorithm"
   ]
  },
  {
   "cell_type": "code",
   "execution_count": 4,
   "metadata": {},
   "outputs": [],
   "source": [
    "import pandas as pd\n",
    "import numpy as np \n",
    "import warnings; warnings.simplefilter('ignore')\n",
    "from sklearn.feature_extraction.text import TfidfVectorizer, CountVectorizer\n",
    "from sklearn.metrics.pairwise import linear_kernel, cosine_similarity\n",
    "from ast import literal_eval\n",
    "from matplotlib import pyplot as plt\n",
    "from nltk.stem.snowball import SnowballStemmer                                                                                                                                                                                                                                                                                                                                                                                                                                                                                                                                                                                                                                                                                                                                                                                                                                                                                                                                                                                                                                                                                                                                                                                                                                                                                                                                                                                                                                                                                                                                                                                                                                                                                                                                                                                                                                                                                                                                                                                                                                                                                                                                                                                                                                                                                                                                                                                                                                                                                                                                                                                                                                                                                                                                                                                                                                                                                                                                                                                                                                                                                                                                                                                                                                                                                                                                                                                                                                                                                                                                                                                                                                                                                                                                                                                                                                                                                                                                                                                                                                                                                                                                                                                                                                                                                                                                                                                                                                                                                                                                                                                                                                                                                                                                                                                                                                                                                                                                                                                                                                                                                                                                                                                                                                                                                                                                                                                                                                                                                                                                                                                                                                                                                                                                                                                                                                                                                                                                                                                                                                                                                                                                                                                                                                                                                                                                                                                                                                                                                                                                                                                                                                                                                                                                                                                                                                                                                                                                                                                                                                                                                                                                                                                                                                                                                                                                                                                                                                                                                                                                                                                                                                                                                                                                                                                                                                                                                                                                                                                                                                                                                                                                                                                                                                                                                                                                                                                                                                                                                                                                                                                                                                                                                                                                                                                                                                                                                                                                                                                                                                                                                                                                "
   ]
  },
  {
   "cell_type": "markdown",
   "metadata": {},
   "source": [
    "## Simple Recommender\n",
    "### Sort movie by its popularity\n",
    "How to calculate movie popularity? \n",
    "\n",
    "According to imdb, movie rating is calculated as follow:\n",
    "\n",
    "Weight Rated = (v/(m+v)*R) + (m/(v+m)*C)\n",
    "\n",
    "For v = numbers of votes for the movie\n",
    "\n",
    "For m = The minimum votes required to be on the chart\n",
    "\n",
    "For R = The average rating of the movie \n",
    "\n",
    "For C = The mean vote across the whole record"
   ]
  },
  {
   "cell_type": "code",
   "execution_count": 8,
   "metadata": {},
   "outputs": [
    {
     "data": {
      "text/html": [
       "<div>\n",
       "<style scoped>\n",
       "    .dataframe tbody tr th:only-of-type {\n",
       "        vertical-align: middle;\n",
       "    }\n",
       "\n",
       "    .dataframe tbody tr th {\n",
       "        vertical-align: top;\n",
       "    }\n",
       "\n",
       "    .dataframe thead th {\n",
       "        text-align: right;\n",
       "    }\n",
       "</style>\n",
       "<table border=\"1\" class=\"dataframe\">\n",
       "  <thead>\n",
       "    <tr style=\"text-align: right;\">\n",
       "      <th></th>\n",
       "      <th>Unnamed: 0</th>\n",
       "      <th>id</th>\n",
       "      <th>title</th>\n",
       "      <th>overview</th>\n",
       "      <th>tagline</th>\n",
       "      <th>vote_average</th>\n",
       "      <th>vote_count</th>\n",
       "      <th>weight_rate</th>\n",
       "      <th>actors</th>\n",
       "      <th>director</th>\n",
       "      <th>details</th>\n",
       "    </tr>\n",
       "  </thead>\n",
       "  <tbody>\n",
       "    <tr>\n",
       "      <th>0</th>\n",
       "      <td>0</td>\n",
       "      <td>278</td>\n",
       "      <td>The Shawshank Redemption</td>\n",
       "      <td>Framed in the 1940s for the double murder of h...</td>\n",
       "      <td>Fear can hold you prisoner. Hope can set you f...</td>\n",
       "      <td>8.5</td>\n",
       "      <td>8358</td>\n",
       "      <td>8.001854</td>\n",
       "      <td>['TimRobbins', 'MorganFreeman', 'BobGunton', '...</td>\n",
       "      <td>['FrankDarabont']</td>\n",
       "      <td>['prison', 'corrupt', 'police brut', 'prison c...</td>\n",
       "    </tr>\n",
       "    <tr>\n",
       "      <th>1</th>\n",
       "      <td>1</td>\n",
       "      <td>238</td>\n",
       "      <td>The Godfather</td>\n",
       "      <td>Spanning the years 1945 to 1955, a chronicle o...</td>\n",
       "      <td>An offer you can't refuse.</td>\n",
       "      <td>8.5</td>\n",
       "      <td>6024</td>\n",
       "      <td>7.865239</td>\n",
       "      <td>['MarlonBrando', 'AlPacino', 'JamesCaan', 'Ric...</td>\n",
       "      <td>['FrancisFordCoppola']</td>\n",
       "      <td>['itali', 'love at first sight', 'loss of fath...</td>\n",
       "    </tr>\n",
       "    <tr>\n",
       "      <th>2</th>\n",
       "      <td>2</td>\n",
       "      <td>155</td>\n",
       "      <td>The Dark Knight</td>\n",
       "      <td>Batman raises the stakes in his war on crime. ...</td>\n",
       "      <td>Why So Serious?</td>\n",
       "      <td>8.3</td>\n",
       "      <td>12269</td>\n",
       "      <td>7.967592</td>\n",
       "      <td>['ChristianBale', 'MichaelCaine', 'HeathLedger...</td>\n",
       "      <td>['ChristopherNolan']</td>\n",
       "      <td>['dc comic', 'crime fight', 'secret ident', 's...</td>\n",
       "    </tr>\n",
       "    <tr>\n",
       "      <th>3</th>\n",
       "      <td>3</td>\n",
       "      <td>550</td>\n",
       "      <td>Fight Club</td>\n",
       "      <td>A ticking-time-bomb insomniac and a slippery s...</td>\n",
       "      <td>Mischief. Mayhem. Soap.</td>\n",
       "      <td>8.3</td>\n",
       "      <td>9678</td>\n",
       "      <td>7.896791</td>\n",
       "      <td>['EdwardNorton', 'BradPitt', 'MeatLoaf', 'Jare...</td>\n",
       "      <td>['DavidFincher']</td>\n",
       "      <td>['support group', 'dual ident', 'nihil', 'rage...</td>\n",
       "    </tr>\n",
       "    <tr>\n",
       "      <th>4</th>\n",
       "      <td>4</td>\n",
       "      <td>680</td>\n",
       "      <td>Pulp Fiction</td>\n",
       "      <td>A burger-loving hit man, his philosophical par...</td>\n",
       "      <td>Just because you are a character doesn't mean ...</td>\n",
       "      <td>8.3</td>\n",
       "      <td>8670</td>\n",
       "      <td>7.860361</td>\n",
       "      <td>['JohnTravolta', 'SamuelL.Jackson', 'UmaThurma...</td>\n",
       "      <td>['QuentinTarantino']</td>\n",
       "      <td>['transport', 'brothel', 'drug deal', 'boxer',...</td>\n",
       "    </tr>\n",
       "  </tbody>\n",
       "</table>\n",
       "</div>"
      ],
      "text/plain": [
       "   Unnamed: 0   id                     title  \\\n",
       "0           0  278  The Shawshank Redemption   \n",
       "1           1  238             The Godfather   \n",
       "2           2  155           The Dark Knight   \n",
       "3           3  550                Fight Club   \n",
       "4           4  680              Pulp Fiction   \n",
       "\n",
       "                                            overview  \\\n",
       "0  Framed in the 1940s for the double murder of h...   \n",
       "1  Spanning the years 1945 to 1955, a chronicle o...   \n",
       "2  Batman raises the stakes in his war on crime. ...   \n",
       "3  A ticking-time-bomb insomniac and a slippery s...   \n",
       "4  A burger-loving hit man, his philosophical par...   \n",
       "\n",
       "                                             tagline  vote_average  \\\n",
       "0  Fear can hold you prisoner. Hope can set you f...           8.5   \n",
       "1                         An offer you can't refuse.           8.5   \n",
       "2                                    Why So Serious?           8.3   \n",
       "3                            Mischief. Mayhem. Soap.           8.3   \n",
       "4  Just because you are a character doesn't mean ...           8.3   \n",
       "\n",
       "   vote_count  weight_rate                                             actors  \\\n",
       "0        8358     8.001854  ['TimRobbins', 'MorganFreeman', 'BobGunton', '...   \n",
       "1        6024     7.865239  ['MarlonBrando', 'AlPacino', 'JamesCaan', 'Ric...   \n",
       "2       12269     7.967592  ['ChristianBale', 'MichaelCaine', 'HeathLedger...   \n",
       "3        9678     7.896791  ['EdwardNorton', 'BradPitt', 'MeatLoaf', 'Jare...   \n",
       "4        8670     7.860361  ['JohnTravolta', 'SamuelL.Jackson', 'UmaThurma...   \n",
       "\n",
       "                 director                                            details  \n",
       "0       ['FrankDarabont']  ['prison', 'corrupt', 'police brut', 'prison c...  \n",
       "1  ['FrancisFordCoppola']  ['itali', 'love at first sight', 'loss of fath...  \n",
       "2    ['ChristopherNolan']  ['dc comic', 'crime fight', 'secret ident', 's...  \n",
       "3        ['DavidFincher']  ['support group', 'dual ident', 'nihil', 'rage...  \n",
       "4    ['QuentinTarantino']  ['transport', 'brothel', 'drug deal', 'boxer',...  "
      ]
     },
     "execution_count": 8,
     "metadata": {},
     "output_type": "execute_result"
    }
   ],
   "source": [
    "#use the movies_data.csv created by the DataProcessing file\n",
    "movie_data = pd.read_csv(\"data/md.csv\")\n",
    "link_id = pd.read_csv(\"data/links_small.csv\")\n",
    "link_id = link_id[['movieId','imdbId', 'tmdbId']]\n",
    "movie_data.head(5)"
   ]
  },
  {
   "cell_type": "markdown",
   "metadata": {},
   "source": [
    "- We can decide the minimum number of vote to be in the list by more than 0.95 percent in the distribution of the number of vote accross the dataframe. \n",
    "- The mean vote can be taken directly from the dataset, while the vote count and vote average can be calculated using my function. \n",
    "- We create another column named weight_rate to get the weight for each movie using the above formula\n",
    "- Finally, raking the movie base on the weightRate. This is the general recommendation that does not take into consider the taste of users"
   ]
  },
  {
   "cell_type": "code",
   "execution_count": 6,
   "metadata": {},
   "outputs": [],
   "source": [
    "#m : minimum vote to be in the list \n",
    "m = movie_data['vote_count'].quantile(0.95)\n",
    "\n",
    "#C: mean vote accross every record\n",
    "C = movie_data['vote_average'].mean()\n",
    "\n",
    "def weightRate(movie):\n",
    "    #v : number of vote \n",
    "    v = movie['vote_count']\n",
    "    #R : average rating of a movie \n",
    "    R = movie['vote_average']\n",
    "    return R*v/(v+m) + C*m/(v+m)\n",
    "    \n",
    "movie_data['weight_rate'] = movie_data.apply(weightRate, axis = 1)\n",
    "mdRanked = movie_data.sort_values(by= ['weight_rate'], ascending = False)"
   ]
  },
  {
   "cell_type": "markdown",
   "metadata": {},
   "source": [
    "## Content based recommender\n",
    "### What's the different \n",
    "This recommender system based on the used preference, more details of its, look at the google docs sheet \n"
   ]
  },
  {
   "cell_type": "code",
   "execution_count": 4,
   "metadata": {},
   "outputs": [],
   "source": [
    "tmdbId = link_id[link_id['tmdbId'].notnull()]['tmdbId']\n",
    "movie_data = movie_data[movie_data['id'].notnull()]"
   ]
  },
  {
   "cell_type": "code",
   "execution_count": 5,
   "metadata": {},
   "outputs": [
    {
     "data": {
      "text/plain": [
       "(7252, 12)"
      ]
     },
     "execution_count": 5,
     "metadata": {},
     "output_type": "execute_result"
    }
   ],
   "source": [
    "tmdb_md = movie_data[movie_data['id'].isin(tmdbId)]\n",
    "tmdb_md['tagline'] = tmdb_md['tagline'].fillna('')\n",
    "tmdb_md['overview'] = tmdb_md['overview'].fillna('')\n",
    "tmdb_md['description'] = tmdb_md['tagline'] + tmdb_md['overview']\n",
    "\n",
    "tmdb_md.shape"
   ]
  },
  {
   "cell_type": "code",
   "execution_count": 6,
   "metadata": {},
   "outputs": [
    {
     "data": {
      "text/plain": [
       "(7252, 219051)"
      ]
     },
     "execution_count": 6,
     "metadata": {},
     "output_type": "execute_result"
    }
   ],
   "source": [
    "small_description = tmdb_md['description']\n",
    "    \n",
    "tf = TfidfVectorizer(analyzer='word',ngram_range=(1, 2),min_df=0, stop_words='english')\n",
    "tfidf_matrix = tf.fit_transform(small_description)\n",
    "tfidf_matrix.shape"
   ]
  },
  {
   "cell_type": "code",
   "execution_count": 7,
   "metadata": {},
   "outputs": [],
   "source": [
    "cosine_sim = linear_kernel(tfidf_matrix, tfidf_matrix)"
   ]
  },
  {
   "cell_type": "code",
   "execution_count": 8,
   "metadata": {},
   "outputs": [],
   "source": [
    "tmdb_md = tmdb_md.reset_index()"
   ]
  },
  {
   "cell_type": "code",
   "execution_count": 9,
   "metadata": {},
   "outputs": [],
   "source": [
    "titles = tmdb_md['title']\n",
    "    \n",
    "indices = pd.Series(data = tmdb_md.index, index =titles )\n",
    "\n",
    "def getRecommendation(title):\n",
    "    title_index = indices[title]\n",
    "    sim_score = list(enumerate(cosine_sim[title_index]))\n",
    "    sim_score = sorted(sim_score, key = lambda x: x[1], reverse = True)\n",
    "    sim_score = sim_score[1:31]\n",
    "    movie_indice = [i[0] for i in sim_score]\n",
    "    \n",
    "    return indices.iloc[movie_indice] "
   ]
  },
  {
   "cell_type": "code",
   "execution_count": 10,
   "metadata": {},
   "outputs": [
    {
     "data": {
      "text/plain": [
       "title\n",
       "The Dark Knight Rises                        91\n",
       "Batman Forever                             7145\n",
       "Batman Returns                              994\n",
       "Batman: Under the Red Hood                  615\n",
       "Batman: The Dark Knight Returns, Part 2     513\n",
       "Batman                                      492\n",
       "Batman: Year One                           1506\n",
       "Batman: Mask of the Phantasm               1400\n",
       "JFK                                         613\n",
       "Batman: The Dark Knight Returns, Part 1     624\n",
       "Sherlock Holmes: A Game of Shadows          407\n",
       "Batman Begins                               128\n",
       "Q & A                                      4710\n",
       "Law Abiding Citizen                         416\n",
       "The File on Thelma Jordon                  5452\n",
       "Flying Tigers                              5567\n",
       "Night Falls on Manhattan                   4653\n",
       "The Young Savages                          5842\n",
       "Batman v Superman: Dawn of Justice         4233\n",
       "Batman & Robin                             7250\n",
       "The Rookie                                 3182\n",
       "Rush Hour 3                                2397\n",
       "The Shaggy D.A.                            6000\n",
       "Fracture                                    640\n",
       "Justice League: Crisis on Two Earths       2092\n",
       "By the Gun                                 6492\n",
       "The Wrong Man                              2721\n",
       "The Master of Disguise                     7127\n",
       "Thinner                                    6312\n",
       "Gangster's Paradise: Jerusalema            4818\n",
       "dtype: int64"
      ]
     },
     "execution_count": 10,
     "metadata": {},
     "output_type": "execute_result"
    }
   ],
   "source": [
    "getRecommendation('The Dark Knight')    "
   ]
  },
  {
   "cell_type": "code",
   "execution_count": 11,
   "metadata": {},
   "outputs": [],
   "source": [
    "credits = pd.read_csv(\"data/credits.csv\")\n",
    "keywords = pd.read_csv(\"data/keywords.csv\")\n",
    "\n",
    "# credits['id'] = credits['id'].astype(int)\n",
    "# keywords['id'] = keywords['id'].astype(int)\n",
    "# movie_data['id'] = movie_data['id'].astype(int)"
   ]
  },
  {
   "cell_type": "code",
   "execution_count": 12,
   "metadata": {},
   "outputs": [],
   "source": [
    "movie_data =pd.merge(movie_data, credits, how = \"inner\", on= 'id')\n",
    "movie_data = pd.merge(movie_data, keywords,how = \"inner\", on = 'id')"
   ]
  },
  {
   "cell_type": "code",
   "execution_count": 13,
   "metadata": {},
   "outputs": [],
   "source": [
    "movie_data['cast'] = movie_data['cast'].apply(literal_eval)\n",
    "movie_data['crew'] = movie_data['crew'].apply(literal_eval)\n",
    "movie_data['keywords'] = movie_data['keywords'].apply(literal_eval)"
   ]
  },
  {
   "cell_type": "code",
   "execution_count": 14,
   "metadata": {},
   "outputs": [],
   "source": [
    "def getActor(x):\n",
    "    if (len(x) >5):\n",
    "        x = x[:5]\n",
    "    else:\n",
    "        x = x\n",
    "    return [actor['name'].replace(\" \",\"\") for actor in x ]\n",
    "\n",
    "def getDirector(x):\n",
    "    return [crew['name'].replace(\" \", \"\") for crew in x if crew['job'] == 'Director']\n",
    "\n",
    "def getKeywords(x):\n",
    "    return [key['name'] for key in x]\n",
    "\n",
    "\n",
    "tmdb_movie = movie_data[movie_data['id'].isin(tmdbId)]\n",
    "tmdb_movie['actors'] =tmdb_movie['cast'].apply(getActor)\n",
    "tmdb_movie['director'] = tmdb_movie['crew'].apply(getDirector)\n",
    "tmdb_movie['keywords'] = tmdb_movie['keywords'].apply(getKeywords)"
   ]
  },
  {
   "cell_type": "code",
   "execution_count": 15,
   "metadata": {},
   "outputs": [],
   "source": [
    "stemmer = SnowballStemmer('english')\n",
    "stemmer.stem('dogs')\n",
    "tmdb_movie['keywords'] = tmdb_movie['keywords'].apply(lambda x: [stemmer.stem(i) for i in x])"
   ]
  },
  {
   "cell_type": "code",
   "execution_count": 16,
   "metadata": {},
   "outputs": [],
   "source": [
    "tmdb_movie['details'] = tmdb_movie['keywords'] + tmdb_movie['director'] + tmdb_movie['actors']\n",
    "tmdb_movie['details'] = tmdb_movie['details'].apply (lambda x: ' '.join(x))\n",
    "# tmdb_movie.to_csv('tmdb_movie.csv')"
   ]
  },
  {
   "cell_type": "code",
   "execution_count": 17,
   "metadata": {},
   "outputs": [
    {
     "data": {
      "text/plain": [
       "(7880, 7880)"
      ]
     },
     "execution_count": 17,
     "metadata": {},
     "output_type": "execute_result"
    }
   ],
   "source": [
    "tf_details = TfidfVectorizer(analyzer='word',ngram_range=(1, 2),min_df=0, stop_words='english')\n",
    "tf_matrix = tf.fit_transform(tmdb_movie['details'])\n",
    "cosine_sim = linear_kernel(tf_matrix, tf_matrix)\n",
    "cosine_sim.shape"
   ]
  },
  {
   "cell_type": "code",
   "execution_count": 18,
   "metadata": {},
   "outputs": [],
   "source": [
    "tmdb_movie = tmdb_movie.reset_index()"
   ]
  },
  {
   "cell_type": "code",
   "execution_count": 19,
   "metadata": {},
   "outputs": [],
   "source": [
    "titles = tmdb_movie['title']    \n",
    "indices = pd.Series(data = tmdb_movie.index, index =titles )"
   ]
  },
  {
   "cell_type": "code",
   "execution_count": 20,
   "metadata": {},
   "outputs": [
    {
     "data": {
      "text/plain": [
       "title\n",
       "Batman Begins                               132\n",
       "The Dark Knight Rises                        95\n",
       "Batman: Under the Red Hood                  623\n",
       "Batman Returns                             1010\n",
       "Batman                                      500\n",
       "Batman & Robin                             7878\n",
       "Superman                                    785\n",
       "Batman v Superman: Dawn of Justice         4549\n",
       "Superman III                               7609\n",
       "Justice League: Crisis on Two Earths       2300\n",
       "Man of Steel                                928\n",
       "Wonder Woman                               2358\n",
       "Batman: Mask of the Phantasm               1512\n",
       "Batman: Year One                           1618\n",
       "Batman Forever                             7773\n",
       "Kick-Ass 2                                 1561\n",
       "Batman: The Dark Knight Returns, Part 2     521\n",
       "All Star Superman                          2887\n",
       "Superman II                                1692\n",
       "Batman: The Dark Knight Returns, Part 1     632\n",
       "Justice League: The Flashpoint Paradox      855\n",
       "Green Lantern                              7826\n",
       "Kick-Ass                                    324\n",
       "Watchmen                                    448\n",
       "Suicide Squad                              2846\n",
       "Spider-Man 2                                672\n",
       "The Amazing Spider-Man 2                    983\n",
       "Blade: Trinity                             4822\n",
       "Sky High                                   4106\n",
       "Superman and the Mole-Men                  6069\n",
       "dtype: int64"
      ]
     },
     "execution_count": 20,
     "metadata": {},
     "output_type": "execute_result"
    }
   ],
   "source": [
    "getRecommendation('The Dark Knight')"
   ]
  },
  {
   "cell_type": "code",
   "execution_count": null,
   "metadata": {},
   "outputs": [],
   "source": []
  }
 ],
 "metadata": {
  "kernelspec": {
   "display_name": "Python 3",
   "language": "python",
   "name": "python3"
  },
  "language_info": {
   "codemirror_mode": {
    "name": "ipython",
    "version": 3
   },
   "file_extension": ".py",
   "mimetype": "text/x-python",
   "name": "python",
   "nbconvert_exporter": "python",
   "pygments_lexer": "ipython3",
   "version": "3.7.0"
  }
 },
 "nbformat": 4,
 "nbformat_minor": 2
}
